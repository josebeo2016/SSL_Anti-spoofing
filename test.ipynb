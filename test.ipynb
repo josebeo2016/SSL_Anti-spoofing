{
 "cells": [
  {
   "cell_type": "code",
   "execution_count": 2,
   "metadata": {},
   "outputs": [],
   "source": [
    "# datapath=\"/dataa/Dataset/fake_or_real/for-norm\"\n",
    "# datapaht=\"/dataa/Dataset/adv\"\n",
    "from tqdm import tqdm\n",
    "from pathlib import Path\n",
    "import shutil\n",
    "import pandas as pd"
   ]
  },
  {
   "cell_type": "code",
   "execution_count": 3,
   "metadata": {},
   "outputs": [],
   "source": [
    "df = pd.read_csv(\"/dataa/Dataset/ASVspoof/LA/ASVspoof2019_LA_cm_protocols/ASVspoof2019.LA.cm.eval.trl.txt\",sep=\" \",header=None)"
   ]
  },
  {
   "cell_type": "code",
   "execution_count": 4,
   "metadata": {},
   "outputs": [
    {
     "data": {
      "text/plain": [
       "<bound method NDFrame.head of              0             1  2    3         4\n",
       "0      LA_0039  LA_E_2834763  -  A11     spoof\n",
       "1      LA_0014  LA_E_8877452  -  A14     spoof\n",
       "2      LA_0040  LA_E_6828287  -  A16     spoof\n",
       "3      LA_0022  LA_E_6977360  -  A09     spoof\n",
       "4      LA_0031  LA_E_5932896  -  A13     spoof\n",
       "...        ...           ... ..  ...       ...\n",
       "71232  LA_0004  LA_E_1665632  -    -  bonafide\n",
       "71233  LA_0038  LA_E_5085671  -  A09     spoof\n",
       "71234  LA_0012  LA_E_4926022  -  A16     spoof\n",
       "71235  LA_0052  LA_E_2894498  -    -  bonafide\n",
       "71236  LA_0009  LA_E_4689563  -  A19     spoof\n",
       "\n",
       "[71237 rows x 5 columns]>"
      ]
     },
     "execution_count": 4,
     "metadata": {},
     "output_type": "execute_result"
    }
   ],
   "source": [
    "df.head"
   ]
  },
  {
   "cell_type": "code",
   "execution_count": 9,
   "metadata": {},
   "outputs": [
    {
     "name": "stderr",
     "output_type": "stream",
     "text": [
      "8849it [00:03, 2453.94it/s]\n"
     ]
    }
   ],
   "source": [
    "# mypath = Path(\"/dataa/Dataset/fake_or_real/for-norm/\")\n",
    "mypath = Path(\"/dataa/Dataset/adv\")\n",
    "emb_paths = mypath.rglob(\"*_adv.wav\")\n",
    "emb_paths\n",
    "list_file = []\n",
    "for f in tqdm(emb_paths):\n",
    "    relative_path = f.relative_to(mypath)\n",
    "    _, name = str(relative_path).split(\"/\")\n",
    "    name = name.replace(\"_adv.wav\",\".wav\")\n",
    "    shutil.copyfile(f, \"/dataa/Dataset/full_adv/{}\".format(name))\n",
    "    # subset, label, name = str(relative_path).split(\"/\")\n",
    "    # list_file.append(str(relative_path)+\" {} {}\\n\".format(subset, label))b\n",
    "    "
   ]
  },
  {
   "cell_type": "code",
   "execution_count": 20,
   "metadata": {},
   "outputs": [],
   "source": [
    "spk_id=df.loc[df[1]==\"LA_E_4689563\"][0]"
   ]
  },
  {
   "cell_type": "code",
   "execution_count": 22,
   "metadata": {},
   "outputs": [
    {
     "data": {
      "text/plain": [
       "'71236    LA_0009\\nName: 0, dtype: object'"
      ]
     },
     "execution_count": 22,
     "metadata": {},
     "output_type": "execute_result"
    }
   ],
   "source": [
    "spk_id"
   ]
  },
  {
   "cell_type": "code",
   "execution_count": 12,
   "metadata": {},
   "outputs": [
    {
     "name": "stderr",
     "output_type": "stream",
     "text": [
      "8207it [00:00, 63483.26it/s]\n"
     ]
    }
   ],
   "source": [
    "# df.loc[df[1]==\"LA_E_4689563\"][4]\n",
    "mypath = Path(\"/dataa/Dataset/full_adv\")\n",
    "emb_paths = mypath.rglob(\"*.wav\")\n",
    "list_file = []\n",
    "for f in tqdm(emb_paths):\n",
    "    relative_path = f.relative_to(mypath)\n",
    "    # _, name = str(relative_path).split(\"/\")\n",
    "    name = str(relative_path).replace(\".wav\",\"\")\n",
    "    list_file.append(name)"
   ]
  },
  {
   "cell_type": "code",
   "execution_count": 28,
   "metadata": {},
   "outputs": [
    {
     "data": {
      "text/plain": [
       "array(['LA_0009', 'LA_E_4689563', '-', 'A19', 'spoof'], dtype=object)"
      ]
     },
     "execution_count": 28,
     "metadata": {},
     "output_type": "execute_result"
    }
   ],
   "source": [
    "df.loc[df[1]==\"LA_E_4689563\"].values[0]\n"
   ]
  },
  {
   "cell_type": "code",
   "execution_count": 33,
   "metadata": {},
   "outputs": [],
   "source": [
    "with open(\"adv_key.txt\", \"w\") as f:\n",
    "    for i in list_file:\n",
    "        row = df.loc[df[1]==i].values[0]\n",
    "        spk_id = row[0]\n",
    "        utt = row[1]\n",
    "        phy = row[2]\n",
    "        sys_id = row[3]\n",
    "        label = row[4]\n",
    "        f.write(\"{} {}.wav - - {} {} - eval\\n\".format(spk_id, utt,sys_id, label))"
   ]
  },
  {
   "cell_type": "code",
   "execution_count": 32,
   "metadata": {},
   "outputs": [],
   "source": [
    "with open(\"adv_protocol.txt\", \"w\") as f:\n",
    "    for i in list_file:\n",
    "        row = df.loc[df[1]==i].values[0]\n",
    "        spk_id = row[0]\n",
    "        utt = row[1]\n",
    "        phy = row[2]\n",
    "        sys_id = row[3]\n",
    "        label = row[4]\n",
    "        f.write(\"{}.wav eval {}\\n\".format(utt, label))"
   ]
  },
  {
   "cell_type": "code",
   "execution_count": 12,
   "metadata": {},
   "outputs": [],
   "source": [
    "import random\n",
    "random.shuffle(list_file)"
   ]
  },
  {
   "cell_type": "code",
   "execution_count": 13,
   "metadata": {},
   "outputs": [],
   "source": [
    "list_file\n",
    "with open(\"/dataa/Dataset/fake_or_real/for-norm/key.txt\", \"w\") as f:\n",
    "    f.writelines(list_file)"
   ]
  },
  {
   "cell_type": "code",
   "execution_count": 14,
   "metadata": {},
   "outputs": [],
   "source": [
    "data=[]\n",
    "with open(\"protocol.txt\", \"r\") as f:\n",
    "    data = f.readlines()"
   ]
  },
  {
   "cell_type": "code",
   "execution_count": 20,
   "metadata": {},
   "outputs": [],
   "source": [
    "with open(\"/dataa/Dataset/fake_or_real/for-norm/key.txt\", \"w\") as f:\n",
    "    for i in data:\n",
    "        key, subset, label = i.strip().split(\" \")\n",
    "        label = \"spoof\" if label==\"fake\" else \"bonafide\"\n",
    "        f.write(\"- {} - - - {} - {}\\n\".format(key, label, subset))\n",
    "    \n"
   ]
  },
  {
   "cell_type": "code",
   "execution_count": null,
   "metadata": {},
   "outputs": [],
   "source": []
  },
  {
   "attachments": {},
   "cell_type": "markdown",
   "metadata": {},
   "source": [
    "# Track 3 ADD2023"
   ]
  },
  {
   "cell_type": "code",
   "execution_count": null,
   "metadata": {},
   "outputs": [],
   "source": [
    "from mchad import MCHAD\n",
    "model = MCHAD()"
   ]
  }
 ],
 "metadata": {
  "kernelspec": {
   "display_name": "SSL_Spoofing",
   "language": "python",
   "name": "python3"
  },
  "language_info": {
   "codemirror_mode": {
    "name": "ipython",
    "version": 3
   },
   "file_extension": ".py",
   "mimetype": "text/x-python",
   "name": "python",
   "nbconvert_exporter": "python",
   "pygments_lexer": "ipython3",
   "version": "3.7.16"
  },
  "orig_nbformat": 4,
  "vscode": {
   "interpreter": {
    "hash": "b58380e9d2c0cc2f8e29e0cc8e5188492c9c75bd7a81b33b6fede6a04c348ff8"
   }
  }
 },
 "nbformat": 4,
 "nbformat_minor": 2
}
